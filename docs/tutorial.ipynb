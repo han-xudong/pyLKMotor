{
 "cells": [
  {
   "cell_type": "markdown",
   "metadata": {},
   "source": [
    "# Tutorial: How to use PyLKMotor"
   ]
  },
  {
   "cell_type": "markdown",
   "metadata": {},
   "source": [
    "## Introduction\n"
   ]
  },
  {
   "cell_type": "markdown",
   "metadata": {},
   "source": [
    "PyLKMotor is a Python library that provides a simple interface to control the LK motors. This tutorial will show you how to use PyLKMotor to control the LK motors."
   ]
  },
  {
   "cell_type": "markdown",
   "metadata": {},
   "source": [
    "## Installation"
   ]
  },
  {
   "cell_type": "markdown",
   "metadata": {},
   "source": [
    "You can install PyLKMotor using pip:\n",
    "\n",
    "```bash\n",
    "pip install pylkmotor\n",
    "```\n",
    "\n",
    "Or you can install it from the source code:\n",
    "\n",
    "```bash\n",
    "git clone https://github.com/han-xudong/pyLKMotor.git\n",
    "cd pylkmotor\n",
    "pip install .\n",
    "```"
   ]
  },
  {
   "cell_type": "markdown",
   "metadata": {},
   "source": [
    "## Initialization"
   ]
  },
  {
   "cell_type": "markdown",
   "metadata": {},
   "source": [
    "To use PyLKMotor, you need to import the `LKMotor` class from the `pylkmotor` module, and create an instance of the `LKMotor` class. You need to specify the can bus interface, bus channel, and the motor id when creating the `LKMotor` instance."
   ]
  },
  {
   "cell_type": "code",
   "execution_count": null,
   "metadata": {},
   "outputs": [],
   "source": [
    "from pylkmotor import LKMotor\n",
    "\n",
    "motor = LKMotor(bus_interface=\"socketcan\", bus_channel=\"can0\", motor_id=1)"
   ]
  },
  {
   "cell_type": "markdown",
   "metadata": {},
   "source": [
    "## Read motor status"
   ]
  },
  {
   "cell_type": "markdown",
   "metadata": {},
   "source": [
    "PyLKMotor provides several functions to read the motor status, including:"
   ]
  },
  {
   "cell_type": "markdown",
   "metadata": {},
   "source": [
    "### `read_motor_status_1`"
   ]
  },
  {
   "cell_type": "markdown",
   "metadata": {},
   "source": [
    "This function sends a command to the motor to read the motor status including:\n",
    "- Motor temperature (int8_t, 1 °C/LSB)\n",
    "- Motor voltage (int16_t, 0.01 V/LSB)\n",
    "- Motor current (int16_t, 0.01 A/LSB)\n",
    "- Motor state (uint8_t)\n",
    "- Error state (uint8_t)"
   ]
  },
  {
   "cell_type": "code",
   "execution_count": null,
   "metadata": {},
   "outputs": [],
   "source": [
    "temperature, voltage, current, motor_state, error_state = motor.read_motor_status_1()\n",
    "print(f\"Temperature: {temperature} °C\")\n",
    "print(f\"Voltage: {voltage} V\")\n",
    "print(f\"Current: {current} A\")\n",
    "print(f\"Motor state: {motor_state}\")\n",
    "print(f\"Error state: {error_state}\")"
   ]
  },
  {
   "cell_type": "markdown",
   "metadata": {},
   "source": [
    "### `read_motor_status_2`"
   ]
  },
  {
   "cell_type": "markdown",
   "metadata": {},
   "source": [
    "This function sends a command to the motor to read the motor status including:\n",
    "- Motor temperature (int8_t, 1 °C/LSB)\n",
    "- Motor iq (int16_t)\n",
    "- Motor speed (int16_t, 1 dps/LSB)\n",
    "- Encoder value (uint16_t)"
   ]
  },
  {
   "cell_type": "code",
   "execution_count": null,
   "metadata": {},
   "outputs": [],
   "source": [
    "temperature, iq, speed, encoder_val = motor.read_motor_status_2()\n",
    "print(f\"Temperature: {temperature} °C\")\n",
    "print(f\"Iq: {iq}\")\n",
    "print(f\"Speed: {speed} deg/s\")\n",
    "print(f\"Encoder value: {encoder_val}\")"
   ]
  },
  {
   "cell_type": "markdown",
   "metadata": {},
   "source": [
    "### `read_motor_status_3`"
   ]
  },
  {
   "cell_type": "markdown",
   "metadata": {},
   "source": [
    "This function sends a command to the motor to read the motor status including:\n",
    "- Motor temperature (int8_t, 1 °C/LSB)\n",
    "- Phase A, B, C current (int16_t)"
   ]
  },
  {
   "cell_type": "code",
   "execution_count": null,
   "metadata": {},
   "outputs": [],
   "source": [
    "temperature, current_A, current_B, current_C = motor.read_motor_status_3()\n",
    "print(f\"Motor temperature: {temperature} °C\")\n",
    "print(f\"Current A: {current_A} A\")\n",
    "print(f\"Current B: {current_B} A\")\n",
    "print(f\"Current C: {current_C} A\")"
   ]
  },
  {
   "cell_type": "markdown",
   "metadata": {},
   "source": [
    "## Read and set encoder value"
   ]
  },
  {
   "cell_type": "markdown",
   "metadata": {},
   "source": [
    "The LK motor has an encoder to measure the motor position. You can read and set the encoder value using the following functions:"
   ]
  },
  {
   "cell_type": "markdown",
   "metadata": {},
   "source": [
    "### `read_encoder_data`"
   ]
  },
  {
   "cell_type": "markdown",
   "metadata": {},
   "source": [
    "This function sends a command to the motor to read the encoder data including:\n",
    "- Encoder value (uint16_t)\n",
    "- Raw encoder value (uint16_t)\n",
    "- Encoder offset (uint16_t)"
   ]
  },
  {
   "cell_type": "code",
   "execution_count": null,
   "metadata": {},
   "outputs": [],
   "source": [
    "encoder_val, encoder_raw, encoder_offset = motor.read_encoder()\n",
    "print(f\"Encoder value: {encoder_val}\")\n",
    "print(f\"Encoder raw value: {encoder_raw}\")\n",
    "print(f\"Encoder offset: {encoder_offset}\")"
   ]
  },
  {
   "cell_type": "markdown",
   "metadata": {},
   "source": [
    "### `set_zero_position`"
   ]
  },
  {
   "cell_type": "markdown",
   "metadata": {},
   "source": [
    "This function sends a command to the motor to set the current position as the zero position.\n",
    "\n",
    "**Note**: the encoder offset will be updated until the motor is restarted.\n",
    "\n",
    "**Warning**: this command will effect the lifetime of the driver, do not use it frequently."
   ]
  },
  {
   "cell_type": "code",
   "execution_count": null,
   "metadata": {},
   "outputs": [],
   "source": [
    "motor.set_zero_position()"
   ]
  },
  {
   "cell_type": "markdown",
   "metadata": {},
   "source": [
    "### `read_multi_turn_angle`"
   ]
  },
  {
   "cell_type": "markdown",
   "metadata": {},
   "source": [
    "This function sends a command to the motor to read the multi-turn angle (int64_t, 0.01 degree/LSB)."
   ]
  },
  {
   "cell_type": "code",
   "execution_count": null,
   "metadata": {},
   "outputs": [],
   "source": [
    "multi_turn_angle = motor.read_multi_turn_angle()\n",
    "print(f\"Multi-turn angle: {multi_turn_angle/100} °\")"
   ]
  },
  {
   "cell_type": "markdown",
   "metadata": {},
   "source": [
    "### `read_single_turn_angle`"
   ]
  },
  {
   "cell_type": "markdown",
   "metadata": {},
   "source": [
    "This function sends a command to the motor to read the single-turn angle (int16_t, 0.01 degree/LSB, 0-35999)."
   ]
  },
  {
   "cell_type": "code",
   "execution_count": null,
   "metadata": {},
   "outputs": [],
   "source": [
    "single_turn_angle = motor.read_single_turn_angle()\n",
    "print(f\"Single-turn angle: {single_turn_angle/100} °\")"
   ]
  },
  {
   "cell_type": "markdown",
   "metadata": {},
   "source": [
    "### `set_position_to_angle`"
   ]
  },
  {
   "cell_type": "markdown",
   "metadata": {},
   "source": [
    "This function sends a command to the motor to set the current position as a multi-turn angle (int64_t, 0.01 degree/LSB). It's recommended to use this function to set the position instead of `set_zero_position`."
   ]
  },
  {
   "cell_type": "code",
   "execution_count": null,
   "metadata": {},
   "outputs": [],
   "source": [
    "motor.set_position_to_angle(0)"
   ]
  },
  {
   "cell_type": "markdown",
   "metadata": {},
   "source": [
    "## Control the motor"
   ]
  },
  {
   "cell_type": "markdown",
   "metadata": {},
   "source": [
    "### Run, stop, and shutdown"
   ]
  },
  {
   "cell_type": "markdown",
   "metadata": {},
   "source": [
    "There are three functions to change the motor state:\n",
    "\n",
    "- `run_motor`: Run the motor. The LED light will keep on. The motor can receive commands and execute them.\n",
    "- `stop_motor`: Stop the motor. The state of the motor will not be cleared. The motor can receive new commands and execute them.\n",
    "- `shutdown_motor`: Turn off the motor. It will clear the number of turns and previous commands. The LED light will shine slowly. The motor can receive and respond to the commands, but does not execute them.\n",
    "\n",
    "\n",
    "When then motor is powered on, the default state is `RUN`. When you send `stop_motor` command, the motor will stop, but the state is still `RUN`. If you send `shutdown_motor` command, the motor will turn off, and the state will be `SHUTDOWN` until you send `run_motor` command."
   ]
  },
  {
   "cell_type": "code",
   "execution_count": null,
   "metadata": {},
   "outputs": [],
   "source": [
    "motor.motor_run()"
   ]
  },
  {
   "cell_type": "code",
   "execution_count": null,
   "metadata": {},
   "outputs": [],
   "source": [
    "motor.motor_stop()"
   ]
  },
  {
   "cell_type": "code",
   "execution_count": null,
   "metadata": {},
   "outputs": [],
   "source": [
    "motor.motor_shutdown()"
   ]
  },
  {
   "cell_type": "markdown",
   "metadata": {},
   "source": [
    "### Torque control"
   ]
  },
  {
   "cell_type": "markdown",
   "metadata": {},
   "source": [
    "The `torque_loop_control` function sends a command to the motor to control the motor torque. The motor will keep the torque until you send a new command. The input `iq_control` is the torque control value (int16_t, -2048 to 2048)."
   ]
  },
  {
   "cell_type": "code",
   "execution_count": null,
   "metadata": {},
   "outputs": [],
   "source": [
    "motor.torque_loop_control(iq_control=100)"
   ]
  },
  {
   "cell_type": "markdown",
   "metadata": {},
   "source": [
    "### Speed control"
   ]
  },
  {
   "cell_type": "markdown",
   "metadata": {},
   "source": [
    "The `speed_loop_control` function sends a command to the motor to control the motor speed. The motor will keep the speed until you send a new command. The input `iq_control` is the torque control value (int16_t, -2048 to 2048), and `speed_control` is the speed control value (int32_t, 0.01 dps/LSB)."
   ]
  },
  {
   "cell_type": "code",
   "execution_count": null,
   "metadata": {},
   "outputs": [],
   "source": [
    "motor.speed_loop_control(iq_control=100, speed_control=1000)"
   ]
  },
  {
   "cell_type": "markdown",
   "metadata": {},
   "source": [
    "### Position control"
   ]
  },
  {
   "cell_type": "markdown",
   "metadata": {},
   "source": [
    "#### Multi-turn position control"
   ]
  },
  {
   "cell_type": "markdown",
   "metadata": {},
   "source": [
    "This function sends a command to the motor to control the motor in multi-turn position loop. The input `angle_control` is the target angle (int32_t, 0.01 degree/LSB), and `max_speed` (optional) is the maximum speed (int16_t, 1 dps/LSB)."
   ]
  },
  {
   "cell_type": "code",
   "execution_count": null,
   "metadata": {},
   "outputs": [],
   "source": [
    "motor.multi_turn_position_control(angle_control=10000, max_speed=1000)"
   ]
  },
  {
   "cell_type": "markdown",
   "metadata": {},
   "source": [
    "#### Single-turn position control"
   ]
  },
  {
   "cell_type": "markdown",
   "metadata": {},
   "source": [
    "This function sends a command to the motor to control the motor in single-turn position loop. The input `spin_direction` is the spin direction (uint8_t, 0x00: clockwise, 0x01: counterclockwise), `angle_control` is the target angle (int32_t, 0.01 degree/LSB, 0-35999), and `max_speed` (optional) is the maximum speed (int16_t, 1 dps/LSB)."
   ]
  },
  {
   "cell_type": "code",
   "execution_count": null,
   "metadata": {},
   "outputs": [],
   "source": [
    "motor.single_turn_position_control(angle_control=10000, max_speed=1000)"
   ]
  },
  {
   "cell_type": "markdown",
   "metadata": {},
   "source": [
    "#### Incremental position control"
   ]
  },
  {
   "cell_type": "markdown",
   "metadata": {},
   "source": [
    "This function sends a command to the motor to control the motor in incremental position loop. The input `angle_increment` is the target angle increment (int32_t, 0.01 degree/LSB), and `max_speed` (optional) is the maximum speed (int16_t, 1 dps/LSB)."
   ]
  },
  {
   "cell_type": "code",
   "execution_count": null,
   "metadata": {},
   "outputs": [],
   "source": [
    "motor.incremental_position_control(angle_increment=1000, max_speed=1000)"
   ]
  },
  {
   "cell_type": "markdown",
   "metadata": {},
   "source": [
    "## Read and set parameters"
   ]
  },
  {
   "cell_type": "markdown",
   "metadata": {},
   "source": [
    "PyLKMotor provides functions to read and set the control parameters:\n",
    "\n",
    "- `read_control_params`: Read the motor parameter.\n",
    "- `write_control_params`: Write the motor parameter.\n",
    "\n",
    "**Note**: The control parameters are stored in the motor, please be careful to follow the instructions in the [LK Motor User Manual](can_protocol.pdf) to change the parameters."
   ]
  }
 ],
 "metadata": {
  "kernelspec": {
   "display_name": "pyLKMotor",
   "language": "python",
   "name": "python3"
  },
  "language_info": {
   "name": "python",
   "version": "3.11.11"
  }
 },
 "nbformat": 4,
 "nbformat_minor": 2
}
